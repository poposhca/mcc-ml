{
 "cells": [
  {
   "cell_type": "code",
   "execution_count": 2,
   "metadata": {
    "collapsed": false
   },
   "outputs": [],
   "source": [
    "import pandas as pd\n",
    "import numpy as np\n",
    "import csv\n",
    "import random\n",
    "import matplotlib.pyplot as plt\n",
    "%matplotlib inline"
   ]
  },
  {
   "cell_type": "code",
   "execution_count": 4,
   "metadata": {
    "collapsed": false
   },
   "outputs": [
    {
     "ename": "NameError",
     "evalue": "name 'csv' is not defined",
     "output_type": "error",
     "traceback": [
      "\u001b[0;31m---------------------------------------------------------------------------\u001b[0m",
      "\u001b[0;31mNameError\u001b[0m                                 Traceback (most recent call last)",
      "\u001b[0;32m<ipython-input-4-a36f2e1420a6>\u001b[0m in \u001b[0;36m<module>\u001b[0;34m()\u001b[0m\n\u001b[0;32m----> 1\u001b[0;31m \u001b[0mdia\u001b[0m \u001b[0;34m=\u001b[0m \u001b[0mcsv\u001b[0m\u001b[0;34m.\u001b[0m\u001b[0mexcel\u001b[0m\u001b[0;34m(\u001b[0m\u001b[0;34m)\u001b[0m\u001b[0;34m\u001b[0m\u001b[0m\n\u001b[0m\u001b[1;32m      2\u001b[0m \u001b[0mdf\u001b[0m \u001b[0;34m=\u001b[0m \u001b[0mpd\u001b[0m\u001b[0;34m.\u001b[0m\u001b[0mread_csv\u001b[0m\u001b[0;34m(\u001b[0m\u001b[0;34m\"carretera4.csv\"\u001b[0m\u001b[0;34m)\u001b[0m\u001b[0;34m\u001b[0m\u001b[0m\n",
      "\u001b[0;31mNameError\u001b[0m: name 'csv' is not defined"
     ]
    }
   ],
   "source": [
    "dia = csv.excel()\n",
    "df = pd.read_csv(\"carretera4.csv\")"
   ]
  },
  {
   "cell_type": "code",
   "execution_count": 188,
   "metadata": {
    "collapsed": false
   },
   "outputs": [],
   "source": [
    "class HighwaySimulator:\n",
    "\t\"\"\"This class keeps track of the state of the world and is able to sense it\"\"\"\n",
    "\tMAXCRASHES=1000\n",
    "\tdef __init__(self,world,grafica=True):\n",
    "\t\tself.world=world\n",
    "\t\tself.positionY=0\n",
    "\t\tself.positionX=random.randint(1,len(world.columns)-2)\n",
    "\t\tself.trayectoriaX=[self.positionX]\n",
    "\t\tself.trayectoriaY=[self.positionY]\n",
    "\t\tself.crashes=0\n",
    "\t\tself.steps=0\n",
    "\t\tself.out=False\n",
    "\t\tself.graficar=grafica\n",
    "\t\t#graficar\n",
    "\t\tif grafica:\n",
    "\t\t\tl=[(j,world.ix[i,j]*i) for i in range(len(world.index)) for j in range(len(world.columns)) ]\n",
    "\t\t\tl=zip(*l)\n",
    "\t\t\tplt.scatter(l[0],l[1])\n",
    "\t\t\n",
    "\t#returns the values (for now noiseless of the Moore neighborhood) from left to right, top to bottom \n",
    "\tdef sensor(self):\n",
    "\t\toutput=[]\n",
    "\t\tpositionY=self.positionY\n",
    "\t\tpositionX=self.positionX\n",
    "\t\tworld=self.world\n",
    "\t\tif positionY==0:\n",
    "\t\t\toutput= output + [1,1,1] #behind limit\n",
    "\t\telse:\n",
    "\t\t\toutput=output + [df.ix[positionY-1,positionX-1],df.ix[positionY-1,positionX],df.ix[positionY-1,positionX+1] ] #behind\n",
    "\t\toutput=output + [df.ix[positionY,positionX-1],df.ix[positionY,positionX],df.ix[positionY,positionX+1] ] #sides\n",
    "\t\tif positionY==len(world.index)-1: #front boundary\n",
    "\t\t\toutput= output + [1,1,1]\n",
    "\t\telse:\n",
    "\t\t\toutput=output + [df.ix[positionY+1,positionX-1],df.ix[positionY+1,positionX],df.ix[positionY+1,positionX+1] ] #front\n",
    "\t\treturn output\n",
    "\t\t\n",
    "\t###Set an arbitrary position\n",
    "\tdef setPosition(self,x,y):\n",
    "\t\tworld=self.world\n",
    "\t\tif x<=1:\n",
    "\t\t\tself.positionX=1\n",
    "\t\telse:\n",
    "\t\t\tif x >= len(world.columns) -2:\n",
    "\t\t\t\tself.positionX=len(world.columns) -2\n",
    "\t\t\telse:\n",
    "\t\t\t\tself.positionX=x\n",
    "\t\t\n",
    "\t\tif y<=0:\n",
    "\t\t\tself.positionY=0\n",
    "\t\telse:\n",
    "\t\t\tif y >= len(world.index) -1:\n",
    "\t\t\t\tself.positionY=len(world.index) -1\n",
    "\t\t\telse:\n",
    "\t\t\t\tself.positionY=y\n",
    "\t\n",
    "\tdef checkPosition(self,x,y):\n",
    "\t\tworld=self.world\n",
    "\t\tif x<1:\n",
    "\t\t\treturn 0\n",
    "\t\t\n",
    "\t\tif x > len(world.columns) -2:\n",
    "\t\t\treturn 0\n",
    "\t\t\t\t\n",
    "\t\tif y<0:\n",
    "\t\t\treturn 1\n",
    "\t\t\n",
    "\t\tif y >= len(world.index) -1:\n",
    "\t\t\treturn 2\n",
    "\t\tif world.ix[y,x]==0:\n",
    "\t\t\treturn 3\n",
    "\t\telse:\n",
    "\t\t\treturn 0\n",
    "\t###Move\n",
    "\tdef move(self,m):\n",
    "\t\tif self.out:\n",
    "\t\t\tprint \"You are already out\"\n",
    "\t\t\treturn\n",
    "\t\tif self.crashes >= self.MAXCRASHES:\n",
    "\t\t\tprint \"Too many accidents!!!!\"\n",
    "\t\t\treturn\n",
    "\t\tif m=='F':\n",
    "\t\t\tres=self.checkPosition(self.positionX,self.positionY+1)\n",
    "\t\t\tif res==3:\n",
    "\t\t\t\tself.positionY=self.positionY+1\n",
    "\t\t\telif res==2:\n",
    "\t\t\t\tprint 'You are out, congratulations!!'\n",
    "\t\t\t\tself.out=True\n",
    "\t\t\telse:\n",
    "\t\t\t\tprint \"Crash\"\n",
    "\t\t\t\tself.crashes=self.crashes+1\n",
    "\t\tif m=='B':\n",
    "\t\t\tres=self.checkPosition(self.positionX,self.positionY-1)\n",
    "\t\t\tif res==3:\n",
    "\t\t\t\tself.positionY=self.positionY-1\n",
    "\t\t\telse:\n",
    "\t\t\t\tprint \"Crash\"\n",
    "\t\t\t\tself.crashes=self.crashes+1\n",
    "\t\tif m=='R':\n",
    "\t\t\tres=self.checkPosition(self.positionX+1,self.positionY)\n",
    "\t\t\tif res==3:\n",
    "\t\t\t\tself.positionX=self.positionX+1\n",
    "\t\t\telse:\n",
    "\t\t\t\tprint \"Crash\"\n",
    "\t\t\t\tself.crashes=self.crashes+1\n",
    "\t\tif m=='L':\n",
    "\t\t\tres=self.checkPosition(self.positionX-1,self.positionY)\n",
    "\t\t\tif res==3:\n",
    "\t\t\t\tself.positionX=self.positionX-1\n",
    "\t\t\telse:\n",
    "\t\t\t\tprint \"Crash\"\n",
    "\t\t\t\tself.crashes=self.crashes+1\t\n",
    "\t\tif res ==3 and self.graficar:\n",
    "\t\t\tself.trayectoriaX=self.trayectoriaX+[self.positionX]\n",
    "\t\t\tself.trayectoriaY=self.trayectoriaY+[self.positionY]\n",
    "\t\t\tplt.plot(self.trayectoriaX,self.trayectoriaY,color='red')\n",
    "\t\t\n",
    "\t\tself.steps=self.steps+1\t\n"
   ]
  },
  {
   "cell_type": "markdown",
   "metadata": {},
   "source": [
    "###  Initialize highway (Example)"
   ]
  },
  {
   "cell_type": "code",
   "execution_count": 189,
   "metadata": {
    "collapsed": false
   },
   "outputs": [
    {
     "data": {
      "image/png": "[encoded data removed]",
      "text/plain": [
       "<matplotlib.figure.Figure at 0x10c0d03d0>"
      ]
     },
     "metadata": {},
     "output_type": "display_data"
    }
   ],
   "source": [
    " carre=HighwaySimulator(df)"
   ]
  },
  {
   "cell_type": "markdown",
   "metadata": {
    "collapsed": false
   },
   "source": [
    "Defina su red:\n",
    "\n",
    "    Entradas\n",
    "    \n",
    "    Salidas\n",
    "    \n",
    "    Topología\n",
    "    \n",
    "En base a su diseño de las entradas y salidas diseñe y genere ejemplos para entrenar\n",
    "Entrene con los datos generados y pruebe con el simulador"
   ]
  },
  {
   "cell_type": "code",
   "execution_count": null,
   "metadata": {
    "collapsed": true
   },
   "outputs": [],
   "source": []
  }
 ],
 "metadata": {
  "kernelspec": {
   "display_name": "Python [Root]",
   "language": "python",
   "name": "Python [Root]"
  },
  "language_info": {
   "codemirror_mode": {
    "name": "ipython",
    "version": 2
   },
   "file_extension": ".py",
   "mimetype": "text/x-python",
   "name": "python",
   "nbconvert_exporter": "python",
   "pygments_lexer": "ipython2",
   "version": "2.7.12"
  }
 },
 "nbformat": 4,
 "nbformat_minor": 0
}
